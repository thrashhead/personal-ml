{
 "cells": [
  {
   "cell_type": "code",
   "execution_count": 1,
   "id": "32d1b739",
   "metadata": {},
   "outputs": [],
   "source": [
    "import numpy as np\n",
    "import pandas as pd\n",
    "\n",
    "import matplotlib.pyplot as plt"
   ]
  },
  {
   "cell_type": "code",
   "execution_count": 2,
   "id": "968d3a63",
   "metadata": {},
   "outputs": [],
   "source": [
    "import os"
   ]
  },
  {
   "cell_type": "markdown",
   "id": "37bc6269",
   "metadata": {},
   "source": [
    "## LOAD IMAGES"
   ]
  },
  {
   "cell_type": "code",
   "execution_count": 3,
   "id": "e9e3a4a8",
   "metadata": {},
   "outputs": [],
   "source": [
    "root_path = \"/home/ivanstefanov/dev/ml/datasets/chinese/\""
   ]
  },
  {
   "cell_type": "code",
   "execution_count": 4,
   "id": "8556227e",
   "metadata": {},
   "outputs": [],
   "source": [
    "images_path = root_path + \"data/data\"\n",
    "\n",
    "images_raw = []\n",
    "for image_name in os.listdir(images_path):\n",
    "    image = os.path.join(images_path, image_name)\n",
    "    images_raw.append(plt.imread(image))"
   ]
  },
  {
   "cell_type": "code",
   "execution_count": 5,
   "id": "625f8b4a",
   "metadata": {},
   "outputs": [],
   "source": [
    "images = np.array(images_raw)"
   ]
  },
  {
   "cell_type": "code",
   "execution_count": 6,
   "id": "b5fd963b",
   "metadata": {},
   "outputs": [],
   "source": [
    "images = images.reshape(15000, 64, 64, 1)"
   ]
  },
  {
   "cell_type": "code",
   "execution_count": 7,
   "id": "4a20d8b2",
   "metadata": {},
   "outputs": [
    {
     "data": {
      "text/plain": [
       "(15000, 64, 64, 1)"
      ]
     },
     "execution_count": 7,
     "metadata": {},
     "output_type": "execute_result"
    }
   ],
   "source": [
    "images.shape"
   ]
  },
  {
   "cell_type": "markdown",
   "id": "b317b522",
   "metadata": {},
   "source": [
    "## LOAD LABELS"
   ]
  },
  {
   "cell_type": "code",
   "execution_count": 8,
   "id": "157c3840",
   "metadata": {},
   "outputs": [],
   "source": [
    "labels_file = root_path + \"chinese_mnist.csv\"\n",
    "\n",
    "labels_df = pd.read_csv(labels_file)"
   ]
  },
  {
   "cell_type": "code",
   "execution_count": 9,
   "id": "4916d6cf",
   "metadata": {},
   "outputs": [],
   "source": [
    "labels = pd.get_dummies(labels_df[\"value\"], drop_first=True)"
   ]
  },
  {
   "cell_type": "code",
   "execution_count": 10,
   "id": "378b1a0f",
   "metadata": {},
   "outputs": [
    {
     "data": {
      "text/plain": [
       "(15000, 14)"
      ]
     },
     "execution_count": 10,
     "metadata": {},
     "output_type": "execute_result"
    }
   ],
   "source": [
    "labels.shape"
   ]
  },
  {
   "cell_type": "markdown",
   "id": "b2de36fb",
   "metadata": {},
   "source": [
    "## SPLIT INTO TRAIN AND TEST SETS"
   ]
  },
  {
   "cell_type": "code",
   "execution_count": 11,
   "id": "74b4c5aa",
   "metadata": {},
   "outputs": [],
   "source": [
    "from sklearn.model_selection import train_test_split"
   ]
  },
  {
   "cell_type": "code",
   "execution_count": 12,
   "id": "20b84865",
   "metadata": {},
   "outputs": [],
   "source": [
    "X_train, X_test, y_train, y_test = train_test_split(images, labels, test_size=.3, random_state=69)"
   ]
  },
  {
   "cell_type": "code",
   "execution_count": 13,
   "id": "7446a340",
   "metadata": {},
   "outputs": [
    {
     "data": {
      "text/plain": [
       "(10500, 64, 64, 1)"
      ]
     },
     "execution_count": 13,
     "metadata": {},
     "output_type": "execute_result"
    }
   ],
   "source": [
    "X_train.shape"
   ]
  },
  {
   "cell_type": "code",
   "execution_count": 14,
   "id": "39c50ebe",
   "metadata": {},
   "outputs": [
    {
     "data": {
      "text/plain": [
       "(10500, 14)"
      ]
     },
     "execution_count": 14,
     "metadata": {},
     "output_type": "execute_result"
    }
   ],
   "source": [
    "y_train.shape"
   ]
  },
  {
   "cell_type": "markdown",
   "id": "777f72df",
   "metadata": {},
   "source": [
    "# PREPARE THE MODEL"
   ]
  },
  {
   "cell_type": "code",
   "execution_count": 15,
   "id": "fa2be755",
   "metadata": {},
   "outputs": [
    {
     "name": "stderr",
     "output_type": "stream",
     "text": [
      "2021-10-16 23:58:30.814216: W tensorflow/stream_executor/platform/default/dso_loader.cc:64] Could not load dynamic library 'libcudart.so.11.0'; dlerror: libcudart.so.11.0: cannot open shared object file: No such file or directory\n",
      "2021-10-16 23:58:30.814237: I tensorflow/stream_executor/cuda/cudart_stub.cc:29] Ignore above cudart dlerror if you do not have a GPU set up on your machine.\n"
     ]
    }
   ],
   "source": [
    "from tensorflow.keras.models import Sequential\n",
    "from tensorflow.keras.layers import Conv2D, Dense, Input, MaxPool2D, Flatten"
   ]
  },
  {
   "cell_type": "code",
   "execution_count": 16,
   "id": "bdebf5b3",
   "metadata": {},
   "outputs": [
    {
     "name": "stderr",
     "output_type": "stream",
     "text": [
      "2021-10-16 23:58:32.083816: W tensorflow/stream_executor/platform/default/dso_loader.cc:64] Could not load dynamic library 'libcuda.so.1'; dlerror: libcuda.so.1: cannot open shared object file: No such file or directory\n",
      "2021-10-16 23:58:32.083842: W tensorflow/stream_executor/cuda/cuda_driver.cc:269] failed call to cuInit: UNKNOWN ERROR (303)\n",
      "2021-10-16 23:58:32.083861: I tensorflow/stream_executor/cuda/cuda_diagnostics.cc:156] kernel driver does not appear to be running on this host (mint-vostro): /proc/driver/nvidia/version does not exist\n",
      "2021-10-16 23:58:32.084084: I tensorflow/core/platform/cpu_feature_guard.cc:142] This TensorFlow binary is optimized with oneAPI Deep Neural Network Library (oneDNN) to use the following CPU instructions in performance-critical operations:  AVX2 FMA\n",
      "To enable them in other operations, rebuild TensorFlow with the appropriate compiler flags.\n"
     ]
    }
   ],
   "source": [
    "model = Sequential([\n",
    "#     Flatten(),\n",
    "#     Input(shape=(64,64, 1)),\n",
    "#     Conv2D(filters=4, kernel_size=(5, 5), activation=\"relu\"),\n",
    "#     MaxPool2D(pool_size=(3, 3)),\n",
    "    Flatten(),\n",
    "    Dense(256, activation=\"relu\"),\n",
    "    Dense(128, activation=\"relu\"),\n",
    "    Dense(64, activation=\"relu\"),\n",
    "    Dense(14, activation=\"softmax\")\n",
    "])"
   ]
  },
  {
   "cell_type": "code",
   "execution_count": 17,
   "id": "e71d512f",
   "metadata": {},
   "outputs": [],
   "source": [
    "model.compile(optimizer=\"adam\", loss=\"categorical_crossentropy\", metrics=[\"accuracy\"])"
   ]
  },
  {
   "cell_type": "code",
   "execution_count": 18,
   "id": "ece7a0ea",
   "metadata": {},
   "outputs": [
    {
     "name": "stderr",
     "output_type": "stream",
     "text": [
      "2021-10-16 23:58:32.244540: I tensorflow/compiler/mlir/mlir_graph_optimization_pass.cc:185] None of the MLIR Optimization Passes are enabled (registered 2)\n"
     ]
    },
    {
     "name": "stdout",
     "output_type": "stream",
     "text": [
      "Epoch 1/20\n",
      "1050/1050 [==============================] - 6s 6ms/step - loss: 2.7290 - accuracy: 0.0689\n",
      "Epoch 2/20\n",
      "1050/1050 [==============================] - 6s 6ms/step - loss: 2.4703 - accuracy: 0.0770\n",
      "Epoch 3/20\n",
      "1050/1050 [==============================] - 6s 6ms/step - loss: 2.4651 - accuracy: 0.0692\n",
      "Epoch 4/20\n",
      "1050/1050 [==============================] - 6s 6ms/step - loss: 2.4657 - accuracy: 0.0698\n",
      "Epoch 5/20\n",
      "1050/1050 [==============================] - 6s 6ms/step - loss: 2.4679 - accuracy: 0.0660\n",
      "Epoch 6/20\n",
      "1050/1050 [==============================] - 6s 6ms/step - loss: 2.4673 - accuracy: 0.0819\n",
      "Epoch 7/20\n",
      "1050/1050 [==============================] - 6s 6ms/step - loss: 2.4646 - accuracy: 0.0682\n",
      "Epoch 8/20\n",
      "1050/1050 [==============================] - 7s 7ms/step - loss: 2.4646 - accuracy: 0.0844\n",
      "Epoch 9/20\n",
      "1050/1050 [==============================] - 6s 6ms/step - loss: 2.4645 - accuracy: 0.0638\n",
      "Epoch 10/20\n",
      "1050/1050 [==============================] - 6s 6ms/step - loss: 2.4645 - accuracy: 0.0693\n",
      "Epoch 11/20\n",
      "1050/1050 [==============================] - 6s 6ms/step - loss: 2.4645 - accuracy: 0.0819\n",
      "Epoch 12/20\n",
      "1050/1050 [==============================] - 6s 6ms/step - loss: 2.4646 - accuracy: 0.0654\n",
      "Epoch 13/20\n",
      "1050/1050 [==============================] - 6s 6ms/step - loss: 2.4646 - accuracy: 0.0670\n",
      "Epoch 14/20\n",
      "1050/1050 [==============================] - 6s 6ms/step - loss: 2.4645 - accuracy: 0.0671\n",
      "Epoch 15/20\n",
      "1050/1050 [==============================] - 6s 6ms/step - loss: 2.4645 - accuracy: 0.0756\n",
      "Epoch 16/20\n",
      "1050/1050 [==============================] - 6s 6ms/step - loss: 2.4645 - accuracy: 0.0755\n",
      "Epoch 17/20\n",
      "1050/1050 [==============================] - 6s 6ms/step - loss: 2.4645 - accuracy: 0.0871\n",
      "Epoch 18/20\n",
      "1050/1050 [==============================] - 6s 6ms/step - loss: 2.4646 - accuracy: 0.0684\n",
      "Epoch 19/20\n",
      "1050/1050 [==============================] - 6s 6ms/step - loss: 2.4646 - accuracy: 0.0700\n",
      "Epoch 20/20\n",
      "1050/1050 [==============================] - 6s 6ms/step - loss: 2.4645 - accuracy: 0.0730\n"
     ]
    },
    {
     "data": {
      "text/plain": [
       "<keras.callbacks.History at 0x7faa6c48f370>"
      ]
     },
     "execution_count": 18,
     "metadata": {},
     "output_type": "execute_result"
    }
   ],
   "source": [
    "model.fit(X_train, y_train, epochs=20, batch_size=10)"
   ]
  },
  {
   "cell_type": "markdown",
   "id": "4dd8f9de",
   "metadata": {},
   "source": [
    "## EVALUATION"
   ]
  },
  {
   "cell_type": "code",
   "execution_count": 19,
   "id": "0d1b0e9c",
   "metadata": {},
   "outputs": [],
   "source": [
    "loss_df = pd.DataFrame(model.history.history)"
   ]
  },
  {
   "cell_type": "code",
   "execution_count": 20,
   "id": "61f1707c",
   "metadata": {},
   "outputs": [
    {
     "data": {
      "text/plain": [
       "[<matplotlib.lines.Line2D at 0x7faa54413e80>,\n",
       " <matplotlib.lines.Line2D at 0x7faa54413eb0>]"
      ]
     },
     "execution_count": 20,
     "metadata": {},
     "output_type": "execute_result"
    },
    {
     "data": {
      "image/png": "[encoded data removed]",
      "text/plain": [
       "<Figure size 432x288 with 1 Axes>"
      ]
     },
     "metadata": {
      "needs_background": "light"
     },
     "output_type": "display_data"
    }
   ],
   "source": [
    "plt.plot(loss_df)"
   ]
  },
  {
   "cell_type": "code",
   "execution_count": 21,
   "id": "25b0cd74",
   "metadata": {},
   "outputs": [
    {
     "name": "stdout",
     "output_type": "stream",
     "text": [
      "141/141 [==============================] - 1s 3ms/step - loss: 2.4613 - accuracy: 0.0598\n"
     ]
    },
    {
     "data": {
      "text/plain": [
       "[2.461257219314575, 0.05977777764201164]"
      ]
     },
     "execution_count": 21,
     "metadata": {},
     "output_type": "execute_result"
    }
   ],
   "source": [
    "model.evaluate(X_test, y_test)"
   ]
  }
 ],
 "metadata": {
  "kernelspec": {
   "display_name": "Python 3 (ipykernel)",
   "language": "python",
   "name": "python3"
  },
  "language_info": {
   "codemirror_mode": {
    "name": "ipython",
    "version": 3
   },
   "file_extension": ".py",
   "mimetype": "text/x-python",
   "name": "python",
   "nbconvert_exporter": "python",
   "pygments_lexer": "ipython3",
   "version": "3.9.7"
  }
 },
 "nbformat": 4,
 "nbformat_minor": 5
}
